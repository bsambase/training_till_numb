{
 "cells": [
  {
   "cell_type": "markdown",
   "metadata": {},
   "source": [
    "Numpy Crash vourse"
   ]
  },
  {
   "cell_type": "code",
   "execution_count": 3,
   "metadata": {},
   "outputs": [
    {
     "name": "stdout",
     "output_type": "stream",
     "text": [
      "Defaulting to user installation because normal site-packages is not writeable\n",
      "Requirement already satisfied: numpy in c:\\users\\bsambase\\appdata\\roaming\\python\\python311\\site-packages (2.1.0)\n"
     ]
    }
   ],
   "source": [
    "!pip install numpy"
   ]
  },
  {
   "cell_type": "code",
   "execution_count": 4,
   "metadata": {},
   "outputs": [],
   "source": [
    "import numpy as np"
   ]
  },
  {
   "cell_type": "markdown",
   "metadata": {},
   "source": [
    "Creating numpy arrays"
   ]
  },
  {
   "cell_type": "code",
   "execution_count": 5,
   "metadata": {},
   "outputs": [],
   "source": [
    "data = np.random.rand(2,3,4)\n",
    "zeros = np.zeros((2,2,2))\n",
    "full = np.full((2,2,2), 7)\n",
    "ones = np.ones((2,2,2))"
   ]
  },
  {
   "cell_type": "code",
   "execution_count": 6,
   "metadata": {},
   "outputs": [
    {
     "data": {
      "text/plain": [
       "array([[[0.26210918, 0.43239634, 0.28790771, 0.35036385],\n",
       "        [0.08072438, 0.05780537, 0.13111131, 0.75847196],\n",
       "        [0.23193291, 0.78757934, 0.07603581, 0.14841163]],\n",
       "\n",
       "       [[0.57699124, 0.64295155, 0.41515994, 0.91722337],\n",
       "        [0.36418517, 0.35227364, 0.50534952, 0.49440837],\n",
       "        [0.86307259, 0.06252014, 0.47010546, 0.45550043]]])"
      ]
     },
     "execution_count": 6,
     "metadata": {},
     "output_type": "execute_result"
    }
   ],
   "source": [
    "data"
   ]
  },
  {
   "cell_type": "code",
   "execution_count": 7,
   "metadata": {},
   "outputs": [
    {
     "data": {
      "text/plain": [
       "array([[[0., 0.],\n",
       "        [0., 0.]],\n",
       "\n",
       "       [[0., 0.],\n",
       "        [0., 0.]]])"
      ]
     },
     "execution_count": 7,
     "metadata": {},
     "output_type": "execute_result"
    }
   ],
   "source": [
    "zeros"
   ]
  },
  {
   "cell_type": "code",
   "execution_count": 8,
   "metadata": {},
   "outputs": [
    {
     "data": {
      "text/plain": [
       "array([[[7, 7],\n",
       "        [7, 7]],\n",
       "\n",
       "       [[7, 7],\n",
       "        [7, 7]]])"
      ]
     },
     "execution_count": 8,
     "metadata": {},
     "output_type": "execute_result"
    }
   ],
   "source": [
    "full"
   ]
  },
  {
   "cell_type": "code",
   "execution_count": 9,
   "metadata": {},
   "outputs": [
    {
     "data": {
      "text/plain": [
       "array([[[1., 1.],\n",
       "        [1., 1.]],\n",
       "\n",
       "       [[1., 1.],\n",
       "        [1., 1.]]])"
      ]
     },
     "execution_count": 9,
     "metadata": {},
     "output_type": "execute_result"
    }
   ],
   "source": [
    "ones"
   ]
  },
  {
   "cell_type": "code",
   "execution_count": 10,
   "metadata": {},
   "outputs": [],
   "source": [
    "arr = np.array([[1,2,3,4],[1,2,3,4]])"
   ]
  },
  {
   "cell_type": "code",
   "execution_count": 11,
   "metadata": {},
   "outputs": [
    {
     "data": {
      "text/plain": [
       "array([[1, 2, 3, 4],\n",
       "       [1, 2, 3, 4]])"
      ]
     },
     "execution_count": 11,
     "metadata": {},
     "output_type": "execute_result"
    }
   ],
   "source": [
    "arr"
   ]
  },
  {
   "cell_type": "markdown",
   "metadata": {},
   "source": [
    "Reading numpy arrays"
   ]
  },
  {
   "cell_type": "code",
   "execution_count": 12,
   "metadata": {},
   "outputs": [],
   "source": [
    "# attributes\n",
    "shape = data.shape\n",
    "size = data.size\n",
    "types = data.dtype"
   ]
  },
  {
   "cell_type": "code",
   "execution_count": 13,
   "metadata": {},
   "outputs": [
    {
     "data": {
      "text/plain": [
       "array([[[0.26210918, 0.43239634, 0.28790771, 0.35036385],\n",
       "        [0.08072438, 0.05780537, 0.13111131, 0.75847196],\n",
       "        [0.23193291, 0.78757934, 0.07603581, 0.14841163]],\n",
       "\n",
       "       [[0.57699124, 0.64295155, 0.41515994, 0.91722337],\n",
       "        [0.36418517, 0.35227364, 0.50534952, 0.49440837],\n",
       "        [0.86307259, 0.06252014, 0.47010546, 0.45550043]]])"
      ]
     },
     "execution_count": 13,
     "metadata": {},
     "output_type": "execute_result"
    }
   ],
   "source": [
    "data"
   ]
  },
  {
   "cell_type": "code",
   "execution_count": 14,
   "metadata": {},
   "outputs": [
    {
     "data": {
      "text/plain": [
       "(2, 3, 4)"
      ]
     },
     "execution_count": 14,
     "metadata": {},
     "output_type": "execute_result"
    }
   ],
   "source": [
    "shape"
   ]
  },
  {
   "cell_type": "code",
   "execution_count": 15,
   "metadata": {},
   "outputs": [
    {
     "data": {
      "text/plain": [
       "24"
      ]
     },
     "execution_count": 15,
     "metadata": {},
     "output_type": "execute_result"
    }
   ],
   "source": [
    "size"
   ]
  },
  {
   "cell_type": "code",
   "execution_count": 16,
   "metadata": {},
   "outputs": [
    {
     "data": {
      "text/plain": [
       "dtype('float64')"
      ]
     },
     "execution_count": 16,
     "metadata": {},
     "output_type": "execute_result"
    }
   ],
   "source": [
    "types"
   ]
  },
  {
   "cell_type": "code",
   "execution_count": 17,
   "metadata": {},
   "outputs": [],
   "source": [
    "# slicing\n",
    "arr = data[0]\n",
    "slicer = data[0][0:2]\n",
    "reverse = data[-1]\n",
    "singlevalue = data[0][0][0]\n"
   ]
  },
  {
   "cell_type": "code",
   "execution_count": 18,
   "metadata": {},
   "outputs": [
    {
     "data": {
      "text/plain": [
       "array([[[0.59234691, 0.74447543, 0.89923102, 0.42694387],\n",
       "        [0.99300819, 0.38915934, 0.18347702, 0.21214766],\n",
       "        [0.81811142, 0.41588789, 0.18107095, 0.4294157 ]],\n",
       "\n",
       "       [[0.46634377, 0.41782907, 0.15486075, 0.1314768 ],\n",
       "        [0.76346266, 0.55439537, 0.26416551, 0.39813704],\n",
       "        [0.8027832 , 0.43774014, 0.9996918 , 0.55184913]]])"
      ]
     },
     "execution_count": 18,
     "metadata": {},
     "output_type": "execute_result"
    }
   ],
   "source": [
    "data"
   ]
  },
  {
   "cell_type": "code",
   "execution_count": 19,
   "metadata": {},
   "outputs": [
    {
     "data": {
      "text/plain": [
       "array([[0.59234691, 0.74447543, 0.89923102, 0.42694387],\n",
       "       [0.99300819, 0.38915934, 0.18347702, 0.21214766],\n",
       "       [0.81811142, 0.41588789, 0.18107095, 0.4294157 ]])"
      ]
     },
     "execution_count": 19,
     "metadata": {},
     "output_type": "execute_result"
    }
   ],
   "source": [
    "arr"
   ]
  },
  {
   "cell_type": "code",
   "execution_count": 20,
   "metadata": {},
   "outputs": [
    {
     "data": {
      "text/plain": [
       "array([[0.59234691, 0.74447543, 0.89923102, 0.42694387],\n",
       "       [0.99300819, 0.38915934, 0.18347702, 0.21214766]])"
      ]
     },
     "execution_count": 20,
     "metadata": {},
     "output_type": "execute_result"
    }
   ],
   "source": [
    "slicer"
   ]
  },
  {
   "cell_type": "code",
   "execution_count": 21,
   "metadata": {},
   "outputs": [
    {
     "data": {
      "text/plain": [
       "array([[0.46634377, 0.41782907, 0.15486075, 0.1314768 ],\n",
       "       [0.76346266, 0.55439537, 0.26416551, 0.39813704],\n",
       "       [0.8027832 , 0.43774014, 0.9996918 , 0.55184913]])"
      ]
     },
     "execution_count": 21,
     "metadata": {},
     "output_type": "execute_result"
    }
   ],
   "source": [
    "reverse"
   ]
  },
  {
   "cell_type": "code",
   "execution_count": 22,
   "metadata": {},
   "outputs": [
    {
     "data": {
      "text/plain": [
       "np.float64(0.5923469141958234)"
      ]
     },
     "execution_count": 22,
     "metadata": {},
     "output_type": "execute_result"
    }
   ],
   "source": [
    "singlevalue"
   ]
  },
  {
   "cell_type": "markdown",
   "metadata": {},
   "source": [
    "Update"
   ]
  },
  {
   "cell_type": "code",
   "execution_count": 14,
   "metadata": {},
   "outputs": [],
   "source": [
    "list = np.random.rand(10)\n",
    "list2 = np.random.rand(10)"
   ]
  },
  {
   "cell_type": "code",
   "execution_count": null,
   "metadata": {},
   "outputs": [],
   "source": [
    "# basic math \n",
    "add = np.add(list,list2)\n",
    "sub = np.subtract(list,list2)\n",
    "div = np.divide(list,list2)\n",
    "mult = np.multiply(list,list2)\n",
    "dot = np.dot(list,list2)"
   ]
  },
  {
   "cell_type": "code",
   "execution_count": null,
   "metadata": {},
   "outputs": [],
   "source": [
    "# stat functions\n",
    "\n",
    "sqrt = np.sqrt(25)\n",
    "ab = np.abs(-2)\n",
    "power = np.power(2, 7)\n",
    "log = np.log(25)\n",
    "exp = ([2,3])\n",
    "mins = np.min(list)\n",
    "maxs = np.max(list)"
   ]
  },
  {
   "cell_type": "code",
   "execution_count": null,
   "metadata": {},
   "outputs": [],
   "source": []
  },
  {
   "cell_type": "code",
   "execution_count": 15,
   "metadata": {},
   "outputs": [
    {
     "data": {
      "text/plain": [
       "array([[[0.26210918, 0.43239634, 0.28790771, 0.35036385],\n",
       "        [0.08072438, 0.05780537, 0.13111131, 0.75847196],\n",
       "        [0.23193291, 0.78757934, 0.07603581, 0.14841163]],\n",
       "\n",
       "       [[0.57699124, 0.64295155, 0.41515994, 0.91722337],\n",
       "        [0.36418517, 0.35227364, 0.50534952, 0.49440837],\n",
       "        [0.86307259, 0.06252014, 0.47010546, 0.45550043]]])"
      ]
     },
     "execution_count": 15,
     "metadata": {},
     "output_type": "execute_result"
    }
   ],
   "source": [
    "data"
   ]
  },
  {
   "cell_type": "code",
   "execution_count": 16,
   "metadata": {},
   "outputs": [],
   "source": [
    "data[0][0][0] = 70"
   ]
  },
  {
   "cell_type": "code",
   "execution_count": 18,
   "metadata": {},
   "outputs": [
    {
     "data": {
      "text/plain": [
       "np.float64(70.0)"
      ]
     },
     "execution_count": 18,
     "metadata": {},
     "output_type": "execute_result"
    }
   ],
   "source": [
    "data[0][0][0]"
   ]
  },
  {
   "cell_type": "code",
   "execution_count": 19,
   "metadata": {},
   "outputs": [
    {
     "data": {
      "text/plain": [
       "array([[[2.87907713e-01, 3.50363854e-01, 4.32396337e-01, 7.00000000e+01],\n",
       "        [5.78053746e-02, 8.07243793e-02, 1.31111312e-01, 7.58471962e-01],\n",
       "        [7.60358107e-02, 1.48411626e-01, 2.31932911e-01, 7.87579343e-01]],\n",
       "\n",
       "       [[4.15159944e-01, 5.76991237e-01, 6.42951552e-01, 9.17223374e-01],\n",
       "        [3.52273635e-01, 3.64185173e-01, 4.94408369e-01, 5.05349524e-01],\n",
       "        [6.25201351e-02, 4.55500434e-01, 4.70105459e-01, 8.63072586e-01]]])"
      ]
     },
     "execution_count": 19,
     "metadata": {},
     "output_type": "execute_result"
    }
   ],
   "source": [
    "data.sort()\n",
    "data"
   ]
  },
  {
   "cell_type": "code",
   "execution_count": 20,
   "metadata": {},
   "outputs": [
    {
     "name": "stdout",
     "output_type": "stream",
     "text": [
      "(2, 3, 4)\n"
     ]
    }
   ],
   "source": [
    "print(data.shape)"
   ]
  },
  {
   "cell_type": "code",
   "execution_count": 22,
   "metadata": {},
   "outputs": [
    {
     "data": {
      "text/plain": [
       "(2, 2, 6)"
      ]
     },
     "execution_count": 22,
     "metadata": {},
     "output_type": "execute_result"
    }
   ],
   "source": [
    "data = data.reshape((2,2,-1))\n",
    "data.shape"
   ]
  },
  {
   "cell_type": "code",
   "execution_count": 26,
   "metadata": {},
   "outputs": [
    {
     "name": "stdout",
     "output_type": "stream",
     "text": [
      "[0. 0. 0. 0. 0. 0. 0. 0.]\n",
      "[0. 0. 0. 0. 0. 0. 0. 0. 3. 4.]\n",
      "[0. 0. 4. 0. 0. 0. 0. 0. 0. 3. 4.]\n"
     ]
    }
   ],
   "source": [
    "zeroes = np.zeros((8))\n",
    "print(zeroes)\n",
    "zeroes = np.append(zeroes, [3,4])\n",
    "print(zeroes)\n",
    "test = np.insert(zeroes, 2 ,4)\n",
    "print (test)"
   ]
  },
  {
   "cell_type": "markdown",
   "metadata": {},
   "source": [
    "Delete"
   ]
  },
  {
   "cell_type": "code",
   "execution_count": 27,
   "metadata": {},
   "outputs": [
    {
     "data": {
      "text/plain": [
       "array([[[2.87907713e-01, 3.50363854e-01, 4.32396337e-01, 7.00000000e+01,\n",
       "         5.78053746e-02, 8.07243793e-02],\n",
       "        [1.31111312e-01, 7.58471962e-01, 7.60358107e-02, 1.48411626e-01,\n",
       "         2.31932911e-01, 7.87579343e-01]],\n",
       "\n",
       "       [[4.15159944e-01, 5.76991237e-01, 6.42951552e-01, 9.17223374e-01,\n",
       "         3.52273635e-01, 3.64185173e-01],\n",
       "        [4.94408369e-01, 5.05349524e-01, 6.25201351e-02, 4.55500434e-01,\n",
       "         4.70105459e-01, 8.63072586e-01]]])"
      ]
     },
     "execution_count": 27,
     "metadata": {},
     "output_type": "execute_result"
    }
   ],
   "source": [
    "data"
   ]
  },
  {
   "cell_type": "code",
   "execution_count": 28,
   "metadata": {},
   "outputs": [
    {
     "data": {
      "text/plain": [
       "array([[[0.13111131, 0.75847196, 0.07603581, 0.14841163, 0.23193291,\n",
       "         0.78757934]],\n",
       "\n",
       "       [[0.49440837, 0.50534952, 0.06252014, 0.45550043, 0.47010546,\n",
       "         0.86307259]]])"
      ]
     },
     "execution_count": 28,
     "metadata": {},
     "output_type": "execute_result"
    }
   ],
   "source": [
    "np.delete(data, 0, axis=1)"
   ]
  },
  {
   "cell_type": "code",
   "execution_count": 30,
   "metadata": {},
   "outputs": [],
   "source": [
    "np.save(\"new array\", data)"
   ]
  },
  {
   "cell_type": "code",
   "execution_count": 32,
   "metadata": {},
   "outputs": [],
   "source": [
    "test = np.load(\"new array.npy\")"
   ]
  },
  {
   "cell_type": "code",
   "execution_count": 33,
   "metadata": {},
   "outputs": [
    {
     "data": {
      "text/plain": [
       "array([[[2.87907713e-01, 3.50363854e-01, 4.32396337e-01, 7.00000000e+01,\n",
       "         5.78053746e-02, 8.07243793e-02],\n",
       "        [1.31111312e-01, 7.58471962e-01, 7.60358107e-02, 1.48411626e-01,\n",
       "         2.31932911e-01, 7.87579343e-01]],\n",
       "\n",
       "       [[4.15159944e-01, 5.76991237e-01, 6.42951552e-01, 9.17223374e-01,\n",
       "         3.52273635e-01, 3.64185173e-01],\n",
       "        [4.94408369e-01, 5.05349524e-01, 6.25201351e-02, 4.55500434e-01,\n",
       "         4.70105459e-01, 8.63072586e-01]]])"
      ]
     },
     "execution_count": 33,
     "metadata": {},
     "output_type": "execute_result"
    }
   ],
   "source": [
    "test"
   ]
  }
 ],
 "metadata": {
  "kernelspec": {
   "display_name": "Python 3",
   "language": "python",
   "name": "python3"
  },
  "language_info": {
   "codemirror_mode": {
    "name": "ipython",
    "version": 3
   },
   "file_extension": ".py",
   "mimetype": "text/x-python",
   "name": "python",
   "nbconvert_exporter": "python",
   "pygments_lexer": "ipython3",
   "version": "3.12.0"
  }
 },
 "nbformat": 4,
 "nbformat_minor": 2
}
