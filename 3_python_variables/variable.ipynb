{
 "cells": [
  {
   "cell_type": "code",
   "execution_count": 1,
   "metadata": {},
   "outputs": [],
   "source": [
    "a=100"
   ]
  },
  {
   "cell_type": "code",
   "execution_count": 4,
   "metadata": {},
   "outputs": [
    {
     "name": "stdout",
     "output_type": "stream",
     "text": [
      "Hi, I'm Bala, I am 32 years old.\n",
      "My height is 6.1 metre and yes , I'm a fuckin student\n"
     ]
    }
   ],
   "source": [
    "## Declaring and assigning variables\n",
    "\n",
    "i_age = 32\n",
    "i_height = 6.1\n",
    "is_student = True\n",
    "name = \"Bala\"\n",
    "\n",
    "## Variable type conversion\n",
    "\n",
    "age = str(i_age)\n",
    "height = str(i_height)\n",
    "\n",
    "## Printing the variables \n",
    "\n",
    "print(\"Hi, I'm \" + name + \", I am \" + age + \" years old.\")\n",
    "if (is_student):\n",
    "    print(\"My height is \" + height + \" metre and yes , I'm a fuckin student\")\n",
    "else:\n",
    "    print(\"My height is \" + height + \" metre and no , I'm not a student\")"
   ]
  },
  {
   "cell_type": "code",
   "execution_count": 7,
   "metadata": {},
   "outputs": [
    {
     "name": "stdout",
     "output_type": "stream",
     "text": [
      "<class 'str'>\n"
     ]
    }
   ],
   "source": [
    "## Understanding variable types\n",
    "## Python is a dynamically typed, type of variable is determined at runtime\n",
    "\n",
    "age = 32 # integer\n",
    "height = 6.1 # float\n",
    "name = \"bala\" # string\n",
    "\n",
    "\n",
    "type(height)\n",
    "\n",
    "## type conversion \n",
    "age_str = str(age)\n",
    "print(type(age_str))\n"
   ]
  },
  {
   "cell_type": "code",
   "execution_count": 11,
   "metadata": {},
   "outputs": [
    {
     "data": {
      "text/plain": [
       "5"
      ]
     },
     "execution_count": 11,
     "metadata": {},
     "output_type": "execute_result"
    }
   ],
   "source": [
    "length = 5.32\n",
    "type(length)\n",
    "int(length)\n",
    "#print(type(length))"
   ]
  },
  {
   "cell_type": "code",
   "execution_count": 13,
   "metadata": {},
   "outputs": [
    {
     "name": "stdout",
     "output_type": "stream",
     "text": [
      "10 <class 'int'>\n",
      "test <class 'str'>\n",
      "10.54 <class 'float'>\n"
     ]
    }
   ],
   "source": [
    "## Dynamic typing\n",
    "## Python allows the type of variable to change as program executes\n",
    "\n",
    "var = 10\n",
    "print(var,type(var))\n",
    "\n",
    "var = \"test\"\n",
    "print(var,type(var))\n",
    "\n",
    "var = 10.54\n",
    "print(var,type(var))"
   ]
  },
  {
   "cell_type": "code",
   "execution_count": 14,
   "metadata": {},
   "outputs": [
    {
     "name": "stdout",
     "output_type": "stream",
     "text": [
      "Test <class 'str'>\n"
     ]
    }
   ],
   "source": [
    " ## input\n",
    " \n",
    "age = input(\"What is the age?\")\n",
    "print(age,type(age)) "
   ]
  },
  {
   "cell_type": "code",
   "execution_count": 16,
   "metadata": {},
   "outputs": [
    {
     "name": "stdout",
     "output_type": "stream",
     "text": [
      "Sum :  66.0\n",
      "Difference :  -20.0\n",
      "Product :  989.0\n",
      "Quotient :  0.5348837209302325\n"
     ]
    }
   ],
   "source": [
    "### Simple Calculator\n",
    "\n",
    "num1 = float(input(\"Enter the first number: \"))\n",
    "num2 = float(input(\"Enter the second number: \"))\n",
    "\n",
    "sum = num1 + num2\n",
    "differ = num1 - num2\n",
    "times = num1 * num2\n",
    "quotient = num1 / num2\n",
    "\n",
    "print(\"Sum : \", sum)\n",
    "print(\"Difference : \", differ)\n",
    "print(\"Product : \", times)\n",
    "print(\"Quotient : \", quotient)"
   ]
  }
 ],
 "metadata": {
  "kernelspec": {
   "display_name": "Python 3",
   "language": "python",
   "name": "python3"
  },
  "language_info": {
   "codemirror_mode": {
    "name": "ipython",
    "version": 3
   },
   "file_extension": ".py",
   "mimetype": "text/x-python",
   "name": "python",
   "nbconvert_exporter": "python",
   "pygments_lexer": "ipython3",
   "version": "3.12.0"
  }
 },
 "nbformat": 4,
 "nbformat_minor": 2
}
